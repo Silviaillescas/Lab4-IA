{
 "cells": [
  {
   "cell_type": "markdown",
   "metadata": {},
   "source": [
    "1. ¿Qué son los grafos computacionales y cuál es su importancia para el cálculo de gradientes en aplicaciones como backpropagation?\n",
    "\n",
    "Los grafos computacionales son representaciones estructuradas de cálculos matemáticos, donde los nodos representan operaciones y los bordes representan los flujos de datos. Son importantes para el cálculo de gradientes, ya que permiten calcular eficientemente las derivadas de las funciones durante el proceso de retropropagación (backpropagation) en redes neuronales. La retropropagación utiliza el grafo para aplicar la regla de la cadena y ajustar los pesos de la red según el error calculado.\n",
    "\n",
    "2. ¿Cuáles son los componentes y pasos que conforman una red neuronal? Con esto en mente, ¿cómo mejoraría el perceptrón que se hizo en el laboratorio pasado?\n",
    "\n",
    "Los componentes de una red neuronal incluyen entradas, pesos, funciones de activación, neuronas y salidas. Los pasos en una red neuronal son: 1) Propagación hacia adelante (calcular salidas), 2) Cálculo del error (comparar la salida predicha con la real), 3) Retropropagación (ajustar los pesos) y 4) Actualización de los pesos mediante un algoritmo de optimización como el gradiente descendente. Para mejorar el perceptrón, se podría agregar una capa oculta y usar funciones de activación no lineales, como la sigmoide o ReLU, para manejar problemas más complejos.\n",
    "\n",
    "3. ¿Cómo se selecciona el valor K usando el método de la silueta para el algoritmo de K-Means? Explique las fórmulas que lo componen así como las suposiciones.\n",
    "\n",
    "El método de la silueta se usa para determinar el número óptimo de clústeres (K) en K-Means. Se calcula la cohesión (a) de cada punto con su propio clúster y la separación (b) con el clúster más cercano. La silueta de un punto es s(i)=  b(i)−a(i) / max(a(i),b(i)). El valor de K se elige cuando el valor promedio de la silueta es máximo. Las suposiciones incluyen que los clústeres son esféricos y tienen tamaños similares, lo cual puede no ser siempre el caso.\n",
    "\n",
    "4. ¿Cómo podría ayudarme a mejorar la calidad de sus clusters cuando se usa K-Means el análisis de componentes principales (PCA)?\n",
    "\n",
    "PCA ayuda a reducir la dimensionalidad de los datos, lo que puede hacer que los clústeres sean más fáciles de identificar. Al reducir las dimensiones, PCA elimina el ruido y resalta las principales características que contribuyen a las diferencias entre los clústeres. Esto puede mejorar la calidad de los clústeres generados por K-Means, especialmente cuando las características tienen alta correlación y afectan la precisión del algoritmo."
   ]
  }
 ],
 "metadata": {
  "language_info": {
   "name": "python"
  }
 },
 "nbformat": 4,
 "nbformat_minor": 2
}
